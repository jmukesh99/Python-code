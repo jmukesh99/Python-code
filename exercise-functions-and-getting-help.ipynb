{
 "cells": [
  {
   "cell_type": "markdown",
   "id": "f2240793",
   "metadata": {
    "papermill": {
     "duration": 0.020727,
     "end_time": "2022-05-17T10:40:56.752400",
     "exception": false,
     "start_time": "2022-05-17T10:40:56.731673",
     "status": "completed"
    },
    "tags": []
   },
   "source": [
    "**This notebook is an exercise in the [Python](https://www.kaggle.com/learn/python) course.  You can reference the tutorial at [this link](https://www.kaggle.com/colinmorris/functions-and-getting-help).**\n",
    "\n",
    "---\n"
   ]
  },
  {
   "cell_type": "markdown",
   "id": "e8b12c07",
   "metadata": {
    "papermill": {
     "duration": 0.021036,
     "end_time": "2022-05-17T10:40:56.792496",
     "exception": false,
     "start_time": "2022-05-17T10:40:56.771460",
     "status": "completed"
    },
    "tags": []
   },
   "source": [
    "Functions are powerful. Try writing some yourself.\n",
    "\n",
    "As before, don't forget to run the setup code below before jumping into question 1."
   ]
  },
  {
   "cell_type": "code",
   "execution_count": 1,
   "id": "50cce862",
   "metadata": {
    "_kg_hide-input": true,
    "_kg_hide-output": true,
    "execution": {
     "iopub.execute_input": "2022-05-17T10:40:56.836501Z",
     "iopub.status.busy": "2022-05-17T10:40:56.836111Z",
     "iopub.status.idle": "2022-05-17T10:40:56.884736Z",
     "shell.execute_reply": "2022-05-17T10:40:56.883683Z"
    },
    "papermill": {
     "duration": 0.071489,
     "end_time": "2022-05-17T10:40:56.887381",
     "exception": false,
     "start_time": "2022-05-17T10:40:56.815892",
     "status": "completed"
    },
    "tags": []
   },
   "outputs": [
    {
     "name": "stdout",
     "output_type": "stream",
     "text": [
      "Setup complete.\n"
     ]
    }
   ],
   "source": [
    "# SETUP. You don't need to worry for now about what this code does or how it works.\n",
    "from learntools.core import binder; binder.bind(globals())\n",
    "from learntools.python.ex2 import *\n",
    "print('Setup complete.')"
   ]
  },
  {
   "cell_type": "markdown",
   "id": "1d54aeb6",
   "metadata": {
    "papermill": {
     "duration": 0.018673,
     "end_time": "2022-05-17T10:40:56.926373",
     "exception": false,
     "start_time": "2022-05-17T10:40:56.907700",
     "status": "completed"
    },
    "tags": []
   },
   "source": [
    "# 1.\n",
    "\n",
    "Complete the body of the following function according to its docstring.\n",
    "\n",
    "HINT: Python has a built-in function `round`."
   ]
  },
  {
   "cell_type": "code",
   "execution_count": 2,
   "id": "37112c8b",
   "metadata": {
    "execution": {
     "iopub.execute_input": "2022-05-17T10:40:56.968105Z",
     "iopub.status.busy": "2022-05-17T10:40:56.967252Z",
     "iopub.status.idle": "2022-05-17T10:40:56.979095Z",
     "shell.execute_reply": "2022-05-17T10:40:56.978242Z"
    },
    "papermill": {
     "duration": 0.034324,
     "end_time": "2022-05-17T10:40:56.981248",
     "exception": false,
     "start_time": "2022-05-17T10:40:56.946924",
     "status": "completed"
    },
    "tags": []
   },
   "outputs": [
    {
     "data": {
      "application/javascript": [
       "parent.postMessage({\"jupyterEvent\": \"custom.exercise_interaction\", \"data\": {\"outcomeType\": 1, \"valueTowardsCompletion\": 0.16666666666666666, \"interactionType\": 1, \"questionType\": 2, \"questionId\": \"1_RoundFunctionProblem\", \"learnToolsVersion\": \"0.3.4\", \"failureMessage\": \"\", \"exceptionClass\": \"\", \"trace\": \"\"}}, \"*\")"
      ],
      "text/plain": [
       "<IPython.core.display.Javascript object>"
      ]
     },
     "metadata": {},
     "output_type": "display_data"
    },
    {
     "data": {
      "text/markdown": [
       "<span style=\"color:#33cc33\">Correct</span>"
      ],
      "text/plain": [
       "Correct"
      ]
     },
     "metadata": {},
     "output_type": "display_data"
    }
   ],
   "source": [
    "def round_to_two_places(num):\n",
    "    \"\"\"Return the given number rounded to two decimal places. \n",
    "    \n",
    "    >>> round_to_two_places(3.14159)\n",
    "    3.14\n",
    "    \"\"\"\n",
    "    # Replace this body with your own code.\n",
    "    # (\"pass\" is a keyword that does literally nothing. We used it as a placeholder\n",
    "    # because after we begin a code block, Python requires at least one line of code)\n",
    "    pass\n",
    "    return round(num, 2)\n",
    "round_to_two_places(3.14159)\n",
    "\n",
    "# Check your answer\n",
    "q1.check()"
   ]
  },
  {
   "cell_type": "code",
   "execution_count": 3,
   "id": "445549dc",
   "metadata": {
    "execution": {
     "iopub.execute_input": "2022-05-17T10:40:57.023885Z",
     "iopub.status.busy": "2022-05-17T10:40:57.023071Z",
     "iopub.status.idle": "2022-05-17T10:40:57.029483Z",
     "shell.execute_reply": "2022-05-17T10:40:57.028528Z"
    },
    "papermill": {
     "duration": 0.030098,
     "end_time": "2022-05-17T10:40:57.031692",
     "exception": false,
     "start_time": "2022-05-17T10:40:57.001594",
     "status": "completed"
    },
    "tags": []
   },
   "outputs": [
    {
     "name": "stdout",
     "output_type": "stream",
     "text": [
      "Help on built-in function round in module builtins:\n",
      "\n",
      "round(number, ndigits=None)\n",
      "    Round a number to a given precision in decimal digits.\n",
      "    \n",
      "    The return value is an integer if ndigits is omitted or None.  Otherwise\n",
      "    the return value has the same type as the number.  ndigits may be negative.\n",
      "\n"
     ]
    }
   ],
   "source": [
    "help(round)"
   ]
  },
  {
   "cell_type": "code",
   "execution_count": 4,
   "id": "d73afe0e",
   "metadata": {
    "execution": {
     "iopub.execute_input": "2022-05-17T10:40:57.076741Z",
     "iopub.status.busy": "2022-05-17T10:40:57.075877Z",
     "iopub.status.idle": "2022-05-17T10:40:57.082987Z",
     "shell.execute_reply": "2022-05-17T10:40:57.082131Z"
    },
    "papermill": {
     "duration": 0.031392,
     "end_time": "2022-05-17T10:40:57.084916",
     "exception": false,
     "start_time": "2022-05-17T10:40:57.053524",
     "status": "completed"
    },
    "tags": []
   },
   "outputs": [
    {
     "data": {
      "application/javascript": [
       "parent.postMessage({\"jupyterEvent\": \"custom.exercise_interaction\", \"data\": {\"interactionType\": 2, \"questionType\": 2, \"questionId\": \"1_RoundFunctionProblem\", \"learnToolsVersion\": \"0.3.4\", \"valueTowardsCompletion\": 0.0, \"failureMessage\": \"\", \"exceptionClass\": \"\", \"trace\": \"\", \"outcomeType\": 4}}, \"*\")"
      ],
      "text/plain": [
       "<IPython.core.display.Javascript object>"
      ]
     },
     "metadata": {},
     "output_type": "display_data"
    },
    {
     "data": {
      "text/markdown": [
       "<span style=\"color:#3366cc\">Hint:</span> Run `help(round)` in the console (or in a code cell) to learn more about the round function. You'll need to use the function's optional second argument."
      ],
      "text/plain": [
       "Hint: Run `help(round)` in the console (or in a code cell) to learn more about the round function. You'll need to use the function's optional second argument."
      ]
     },
     "metadata": {},
     "output_type": "display_data"
    }
   ],
   "source": [
    "# Uncomment the following for a hint\n",
    "q1.hint()\n",
    "# Or uncomment the following to peek at the solution\n",
    "#q1.solution()"
   ]
  },
  {
   "cell_type": "markdown",
   "id": "e74ae4ba",
   "metadata": {
    "papermill": {
     "duration": 0.023103,
     "end_time": "2022-05-17T10:40:57.131364",
     "exception": false,
     "start_time": "2022-05-17T10:40:57.108261",
     "status": "completed"
    },
    "tags": []
   },
   "source": [
    "# 2.\n",
    "The help for `round` says that `ndigits` (the second argument) may be negative.\n",
    "What do you think will happen when it is? Try some examples in the following cell."
   ]
  },
  {
   "cell_type": "code",
   "execution_count": 5,
   "id": "d803da5b",
   "metadata": {
    "execution": {
     "iopub.execute_input": "2022-05-17T10:40:57.178901Z",
     "iopub.status.busy": "2022-05-17T10:40:57.178102Z",
     "iopub.status.idle": "2022-05-17T10:40:57.183564Z",
     "shell.execute_reply": "2022-05-17T10:40:57.182395Z"
    },
    "papermill": {
     "duration": 0.0327,
     "end_time": "2022-05-17T10:40:57.185900",
     "exception": false,
     "start_time": "2022-05-17T10:40:57.153200",
     "status": "completed"
    },
    "tags": []
   },
   "outputs": [
    {
     "name": "stdout",
     "output_type": "stream",
     "text": [
      "5000.0\n"
     ]
    }
   ],
   "source": [
    "# Put your test code here\n",
    "a = round(4678.7568, -3)\n",
    "print(a)"
   ]
  },
  {
   "cell_type": "markdown",
   "id": "b7eea5e8",
   "metadata": {
    "papermill": {
     "duration": 0.027369,
     "end_time": "2022-05-17T10:40:57.240946",
     "exception": false,
     "start_time": "2022-05-17T10:40:57.213577",
     "status": "completed"
    },
    "tags": []
   },
   "source": [
    "Can you think of a case where this would be useful?  Once you're ready, run the code cell below to see the answer and to receive credit for completing the problem."
   ]
  },
  {
   "cell_type": "code",
   "execution_count": 6,
   "id": "6fddf78e",
   "metadata": {
    "execution": {
     "iopub.execute_input": "2022-05-17T10:40:57.289503Z",
     "iopub.status.busy": "2022-05-17T10:40:57.289171Z",
     "iopub.status.idle": "2022-05-17T10:40:57.296224Z",
     "shell.execute_reply": "2022-05-17T10:40:57.295403Z"
    },
    "papermill": {
     "duration": 0.032433,
     "end_time": "2022-05-17T10:40:57.298045",
     "exception": false,
     "start_time": "2022-05-17T10:40:57.265612",
     "status": "completed"
    },
    "tags": []
   },
   "outputs": [
    {
     "data": {
      "application/javascript": [
       "parent.postMessage({\"jupyterEvent\": \"custom.exercise_interaction\", \"data\": {\"interactionType\": 3, \"questionType\": 4, \"questionId\": \"2_RoundNdigitsProblem\", \"learnToolsVersion\": \"0.3.4\", \"valueTowardsCompletion\": 0.0, \"failureMessage\": \"\", \"exceptionClass\": \"\", \"trace\": \"\", \"outcomeType\": 4}}, \"*\")"
      ],
      "text/plain": [
       "<IPython.core.display.Javascript object>"
      ]
     },
     "metadata": {},
     "output_type": "display_data"
    },
    {
     "data": {
      "text/markdown": [
       "<span style=\"color:#33cc99\">Solution:</span> As you've seen, `ndigits=-1` rounds to the nearest 10, `ndigits=-2` rounds to the nearest 100 and so on. Where might this be useful? Suppose we're dealing with large numbers:\n",
       "\n",
       "> The area of Finland is 338,424 km²  \n",
       "> The area of Greenland is 2,166,086 km²\n",
       "\n",
       "We probably don't care whether it's really 338,424, or 338,425, or 338,177. All those digits of accuracy are just distracting. We can chop them off by calling `round()` with `ndigits=-3`:\n",
       "\n",
       "> The area of Finland is 338,000 km²  \n",
       "> The area of Greenland is 2,166,000 km²\n",
       "\n",
       "(We'll talk about how we would get the commas later when we talk about string formatting :))\n"
      ],
      "text/plain": [
       "Solution: As you've seen, `ndigits=-1` rounds to the nearest 10, `ndigits=-2` rounds to the nearest 100 and so on. Where might this be useful? Suppose we're dealing with large numbers:\n",
       "\n",
       "> The area of Finland is 338,424 km²  \n",
       "> The area of Greenland is 2,166,086 km²\n",
       "\n",
       "We probably don't care whether it's really 338,424, or 338,425, or 338,177. All those digits of accuracy are just distracting. We can chop them off by calling `round()` with `ndigits=-3`:\n",
       "\n",
       "> The area of Finland is 338,000 km²  \n",
       "> The area of Greenland is 2,166,000 km²\n",
       "\n",
       "(We'll talk about how we would get the commas later when we talk about string formatting :))"
      ]
     },
     "metadata": {},
     "output_type": "display_data"
    }
   ],
   "source": [
    "# Check your answer (Run this code cell to receive credit!)\n",
    "q2.solution()"
   ]
  },
  {
   "cell_type": "markdown",
   "id": "5c04c9ac",
   "metadata": {
    "papermill": {
     "duration": 0.024534,
     "end_time": "2022-05-17T10:40:57.347160",
     "exception": false,
     "start_time": "2022-05-17T10:40:57.322626",
     "status": "completed"
    },
    "tags": []
   },
   "source": [
    "# 3.\n",
    "\n",
    "In the previous exercise, the candy-sharing friends Alice, Bob and Carol tried to split candies evenly. For the sake of their friendship, any candies left over would be smashed. For example, if they collectively bring home 91 candies, they'll take 30 each and smash 1.\n",
    "\n",
    "Below is a simple function that will calculate the number of candies to smash for *any* number of total candies.\n",
    "\n",
    "Modify it so that it optionally takes a second argument representing the number of friends the candies are being split between. If no second argument is provided, it should assume 3 friends, as before.\n",
    "\n",
    "Update the docstring to reflect this new behaviour."
   ]
  },
  {
   "cell_type": "code",
   "execution_count": 7,
   "id": "373bfc73",
   "metadata": {
    "execution": {
     "iopub.execute_input": "2022-05-17T10:40:57.397625Z",
     "iopub.status.busy": "2022-05-17T10:40:57.396938Z",
     "iopub.status.idle": "2022-05-17T10:40:57.404475Z",
     "shell.execute_reply": "2022-05-17T10:40:57.403918Z"
    },
    "papermill": {
     "duration": 0.035821,
     "end_time": "2022-05-17T10:40:57.406597",
     "exception": false,
     "start_time": "2022-05-17T10:40:57.370776",
     "status": "completed"
    },
    "tags": []
   },
   "outputs": [
    {
     "data": {
      "application/javascript": [
       "parent.postMessage({\"jupyterEvent\": \"custom.exercise_interaction\", \"data\": {\"outcomeType\": 1, \"valueTowardsCompletion\": 0.16666666666666666, \"interactionType\": 1, \"questionType\": 2, \"questionId\": \"3_CandySmashingFunctionProblem\", \"learnToolsVersion\": \"0.3.4\", \"failureMessage\": \"\", \"exceptionClass\": \"\", \"trace\": \"\"}}, \"*\")"
      ],
      "text/plain": [
       "<IPython.core.display.Javascript object>"
      ]
     },
     "metadata": {},
     "output_type": "display_data"
    },
    {
     "data": {
      "text/markdown": [
       "<span style=\"color:#33cc33\">Correct</span>"
      ],
      "text/plain": [
       "Correct"
      ]
     },
     "metadata": {},
     "output_type": "display_data"
    }
   ],
   "source": [
    "def to_smash(total_candies, frnd=3):\n",
    "    \"\"\"\n",
    "    It takes second argument representing the number of friends \n",
    "    the candies are being split between. \n",
    "    If no argument is provided, it should assume 3 friends.\n",
    "    \n",
    "    Return the number of leftover candies that must be smashed after distributing\n",
    "    the given number of candies evenly between given no of friends or among 3 friends. \n",
    "    \n",
    "    >>> to_smash(91, 7)\n",
    "    0\n",
    "    \n",
    "    >>> to_smash(91) \n",
    "    1\n",
    "    \"\"\"\n",
    "    return total_candies % frnd\n",
    "    \n",
    "# Check your answer\n",
    "q3.check()"
   ]
  },
  {
   "cell_type": "code",
   "execution_count": 8,
   "id": "7ca2d804",
   "metadata": {
    "execution": {
     "iopub.execute_input": "2022-05-17T10:40:57.459253Z",
     "iopub.status.busy": "2022-05-17T10:40:57.458735Z",
     "iopub.status.idle": "2022-05-17T10:40:57.466154Z",
     "shell.execute_reply": "2022-05-17T10:40:57.465350Z"
    },
    "papermill": {
     "duration": 0.036618,
     "end_time": "2022-05-17T10:40:57.468157",
     "exception": false,
     "start_time": "2022-05-17T10:40:57.431539",
     "status": "completed"
    },
    "tags": []
   },
   "outputs": [
    {
     "data": {
      "application/javascript": [
       "parent.postMessage({\"jupyterEvent\": \"custom.exercise_interaction\", \"data\": {\"interactionType\": 2, \"questionType\": 2, \"questionId\": \"3_CandySmashingFunctionProblem\", \"learnToolsVersion\": \"0.3.4\", \"valueTowardsCompletion\": 0.0, \"failureMessage\": \"\", \"exceptionClass\": \"\", \"trace\": \"\", \"outcomeType\": 4}}, \"*\")"
      ],
      "text/plain": [
       "<IPython.core.display.Javascript object>"
      ]
     },
     "metadata": {},
     "output_type": "display_data"
    },
    {
     "data": {
      "text/markdown": [
       "<span style=\"color:#3366cc\">Hint:</span> Refer to the section of the last tutorial notebook where we talked about default arguments"
      ],
      "text/plain": [
       "Hint: Refer to the section of the last tutorial notebook where we talked about default arguments"
      ]
     },
     "metadata": {},
     "output_type": "display_data"
    }
   ],
   "source": [
    "q3.hint()"
   ]
  },
  {
   "cell_type": "code",
   "execution_count": 9,
   "id": "dab842a7",
   "metadata": {
    "execution": {
     "iopub.execute_input": "2022-05-17T10:40:57.521918Z",
     "iopub.status.busy": "2022-05-17T10:40:57.521414Z",
     "iopub.status.idle": "2022-05-17T10:40:57.527827Z",
     "shell.execute_reply": "2022-05-17T10:40:57.527040Z"
    },
    "papermill": {
     "duration": 0.03552,
     "end_time": "2022-05-17T10:40:57.529653",
     "exception": false,
     "start_time": "2022-05-17T10:40:57.494133",
     "status": "completed"
    },
    "tags": []
   },
   "outputs": [
    {
     "data": {
      "application/javascript": [
       "parent.postMessage({\"jupyterEvent\": \"custom.exercise_interaction\", \"data\": {\"interactionType\": 3, \"questionType\": 2, \"questionId\": \"3_CandySmashingFunctionProblem\", \"learnToolsVersion\": \"0.3.4\", \"valueTowardsCompletion\": 0.0, \"failureMessage\": \"\", \"exceptionClass\": \"\", \"trace\": \"\", \"outcomeType\": 4}}, \"*\")"
      ],
      "text/plain": [
       "<IPython.core.display.Javascript object>"
      ]
     },
     "metadata": {},
     "output_type": "display_data"
    },
    {
     "data": {
      "text/markdown": [
       "<span style=\"color:#33cc99\">Solution:</span> \n",
       "```python\n",
       "def to_smash(total_candies, n_friends=3):\n",
       "    return total_candies % n_friends\n",
       "```"
      ],
      "text/plain": [
       "Solution: \n",
       "```python\n",
       "def to_smash(total_candies, n_friends=3):\n",
       "    return total_candies % n_friends\n",
       "```"
      ]
     },
     "metadata": {},
     "output_type": "display_data"
    }
   ],
   "source": [
    "q3.solution()"
   ]
  },
  {
   "cell_type": "markdown",
   "id": "fed6c6d8",
   "metadata": {
    "papermill": {
     "duration": 0.026734,
     "end_time": "2022-05-17T10:40:57.583435",
     "exception": false,
     "start_time": "2022-05-17T10:40:57.556701",
     "status": "completed"
    },
    "tags": []
   },
   "source": [
    "# 4. (Optional)\n",
    "\n",
    "It may not be fun, but reading and understanding error messages will be an important part of your Python career.\n",
    "\n",
    "Each code cell below contains some commented buggy code. For each cell...\n",
    "\n",
    "1. Read the code and predict what you think will happen when it's run.\n",
    "2. Then uncomment the code and run it to see what happens. (**Tip**: In the kernel editor, you can highlight several lines and press `ctrl`+`/` to toggle commenting.)\n",
    "3. Fix the code (so that it accomplishes its intended purpose without throwing an exception)\n",
    "\n",
    "<!-- TODO: should this be autochecked? Delta is probably pretty small. -->"
   ]
  },
  {
   "cell_type": "code",
   "execution_count": 10,
   "id": "82e8b371",
   "metadata": {
    "execution": {
     "iopub.execute_input": "2022-05-17T10:40:57.638767Z",
     "iopub.status.busy": "2022-05-17T10:40:57.638465Z",
     "iopub.status.idle": "2022-05-17T10:40:57.643680Z",
     "shell.execute_reply": "2022-05-17T10:40:57.643124Z"
    },
    "papermill": {
     "duration": 0.035058,
     "end_time": "2022-05-17T10:40:57.645574",
     "exception": false,
     "start_time": "2022-05-17T10:40:57.610516",
     "status": "completed"
    },
    "tags": []
   },
   "outputs": [
    {
     "data": {
      "text/plain": [
       "10.0"
      ]
     },
     "execution_count": 10,
     "metadata": {},
     "output_type": "execute_result"
    }
   ],
   "source": [
    "round_to_two_places(9.9999)"
   ]
  },
  {
   "cell_type": "code",
   "execution_count": 11,
   "id": "580d265d",
   "metadata": {
    "execution": {
     "iopub.execute_input": "2022-05-17T10:40:57.702310Z",
     "iopub.status.busy": "2022-05-17T10:40:57.701818Z",
     "iopub.status.idle": "2022-05-17T10:40:57.707194Z",
     "shell.execute_reply": "2022-05-17T10:40:57.706067Z"
    },
    "papermill": {
     "duration": 0.03637,
     "end_time": "2022-05-17T10:40:57.709462",
     "exception": false,
     "start_time": "2022-05-17T10:40:57.673092",
     "status": "completed"
    },
    "tags": []
   },
   "outputs": [],
   "source": [
    "x = -10\n",
    "y = 5\n",
    "# Which of the two variables above has the smallest absolute value?\n",
    "smallest_abs = min(abs(x), abs(y))"
   ]
  },
  {
   "cell_type": "code",
   "execution_count": 12,
   "id": "a06904d3",
   "metadata": {
    "execution": {
     "iopub.execute_input": "2022-05-17T10:40:57.773689Z",
     "iopub.status.busy": "2022-05-17T10:40:57.773376Z",
     "iopub.status.idle": "2022-05-17T10:40:57.778890Z",
     "shell.execute_reply": "2022-05-17T10:40:57.778038Z"
    },
    "papermill": {
     "duration": 0.037285,
     "end_time": "2022-05-17T10:40:57.781042",
     "exception": false,
     "start_time": "2022-05-17T10:40:57.743757",
     "status": "completed"
    },
    "tags": []
   },
   "outputs": [
    {
     "name": "stdout",
     "output_type": "stream",
     "text": [
      "5\n"
     ]
    }
   ],
   "source": [
    "def f(x):\n",
    "    y = abs(x)\n",
    "    return y\n",
    "\n",
    "print(f(5))"
   ]
  },
  {
   "cell_type": "markdown",
   "id": "07053065",
   "metadata": {
    "papermill": {
     "duration": 0.027489,
     "end_time": "2022-05-17T10:40:57.836571",
     "exception": false,
     "start_time": "2022-05-17T10:40:57.809082",
     "status": "completed"
    },
    "tags": []
   },
   "source": [
    "# Keep Going\n",
    "\n",
    "Nice job with the code. Next up, you'll learn about *conditionals*, which you'll need to **[write interesting programs](https://www.kaggle.com/colinmorris/booleans-and-conditionals)**. "
   ]
  },
  {
   "cell_type": "markdown",
   "id": "cbd061f6",
   "metadata": {
    "papermill": {
     "duration": 0.028262,
     "end_time": "2022-05-17T10:40:57.892822",
     "exception": false,
     "start_time": "2022-05-17T10:40:57.864560",
     "status": "completed"
    },
    "tags": []
   },
   "source": [
    "---\n",
    "\n",
    "\n",
    "\n",
    "\n",
    "*Have questions or comments? Visit the [course discussion forum](https://www.kaggle.com/learn/python/discussion) to chat with other learners.*"
   ]
  }
 ],
 "metadata": {
  "kernelspec": {
   "display_name": "Python 3",
   "language": "python",
   "name": "python3"
  },
  "language_info": {
   "codemirror_mode": {
    "name": "ipython",
    "version": 3
   },
   "file_extension": ".py",
   "mimetype": "text/x-python",
   "name": "python",
   "nbconvert_exporter": "python",
   "pygments_lexer": "ipython3",
   "version": "3.7.12"
  },
  "papermill": {
   "default_parameters": {},
   "duration": 11.838165,
   "end_time": "2022-05-17T10:40:58.645322",
   "environment_variables": {},
   "exception": null,
   "input_path": "__notebook__.ipynb",
   "output_path": "__notebook__.ipynb",
   "parameters": {},
   "start_time": "2022-05-17T10:40:46.807157",
   "version": "2.3.4"
  }
 },
 "nbformat": 4,
 "nbformat_minor": 5
}
